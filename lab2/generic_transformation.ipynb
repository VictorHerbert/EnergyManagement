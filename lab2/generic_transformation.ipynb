{
 "cells": [
  {
   "cell_type": "code",
   "execution_count": 1,
   "metadata": {},
   "outputs": [],
   "source": [
    "import numpy as np\n",
    "import pandas as pd\n",
    "from matplotlib import pyplot as plt\n",
    "\n",
    "from skimage.color import rgb2lab, lab2rgb"
   ]
  },
  {
   "cell_type": "code",
   "execution_count": 2,
   "metadata": {},
   "outputs": [],
   "source": [
    "pixels = np.array(list(np.ndindex((255, 255, 255))))\n",
    "lab = rgb2lab(pixels)"
   ]
  },
  {
   "cell_type": "code",
   "execution_count": 3,
   "metadata": {},
   "outputs": [
    {
     "data": {
      "text/html": [
       "<div>\n",
       "<style scoped>\n",
       "    .dataframe tbody tr th:only-of-type {\n",
       "        vertical-align: middle;\n",
       "    }\n",
       "\n",
       "    .dataframe tbody tr th {\n",
       "        vertical-align: top;\n",
       "    }\n",
       "\n",
       "    .dataframe thead th {\n",
       "        text-align: right;\n",
       "    }\n",
       "</style>\n",
       "<table border=\"1\" class=\"dataframe\">\n",
       "  <thead>\n",
       "    <tr style=\"text-align: right;\">\n",
       "      <th></th>\n",
       "      <th>rgb_R</th>\n",
       "      <th>rgb_G</th>\n",
       "      <th>rgb_B</th>\n",
       "      <th>lab_L</th>\n",
       "      <th>lab_A</th>\n",
       "      <th>lab_B</th>\n",
       "    </tr>\n",
       "  </thead>\n",
       "  <tbody>\n",
       "    <tr>\n",
       "      <th>11354841</th>\n",
       "      <td>174</td>\n",
       "      <td>158</td>\n",
       "      <td>201</td>\n",
       "      <td>0.000005</td>\n",
       "      <td>0.000001</td>\n",
       "      <td>-0.000002</td>\n",
       "    </tr>\n",
       "    <tr>\n",
       "      <th>16377885</th>\n",
       "      <td>251</td>\n",
       "      <td>222</td>\n",
       "      <td>0</td>\n",
       "      <td>0.000007</td>\n",
       "      <td>-0.000003</td>\n",
       "      <td>0.000010</td>\n",
       "    </tr>\n",
       "    <tr>\n",
       "      <th>1009696</th>\n",
       "      <td>15</td>\n",
       "      <td>134</td>\n",
       "      <td>151</td>\n",
       "      <td>0.000004</td>\n",
       "      <td>-0.000003</td>\n",
       "      <td>-0.000002</td>\n",
       "    </tr>\n",
       "    <tr>\n",
       "      <th>8919938</th>\n",
       "      <td>137</td>\n",
       "      <td>45</td>\n",
       "      <td>38</td>\n",
       "      <td>0.000002</td>\n",
       "      <td>0.000003</td>\n",
       "      <td>0.000001</td>\n",
       "    </tr>\n",
       "    <tr>\n",
       "      <th>13433086</th>\n",
       "      <td>206</td>\n",
       "      <td>148</td>\n",
       "      <td>196</td>\n",
       "      <td>0.000005</td>\n",
       "      <td>0.000003</td>\n",
       "      <td>-0.000002</td>\n",
       "    </tr>\n",
       "  </tbody>\n",
       "</table>\n",
       "</div>"
      ],
      "text/plain": [
       "          rgb_R  rgb_G  rgb_B     lab_L     lab_A     lab_B\n",
       "11354841    174    158    201  0.000005  0.000001 -0.000002\n",
       "16377885    251    222      0  0.000007 -0.000003  0.000010\n",
       "1009696      15    134    151  0.000004 -0.000003 -0.000002\n",
       "8919938     137     45     38  0.000002  0.000003  0.000001\n",
       "13433086    206    148    196  0.000005  0.000003 -0.000002"
      ]
     },
     "execution_count": 3,
     "metadata": {},
     "output_type": "execute_result"
    }
   ],
   "source": [
    "df = pd.DataFrame()\n",
    "\n",
    "df[['rgb_R', 'rgb_G', 'rgb_B']] = pixels\n",
    "df[['lab_L', 'lab_A', 'lab_B']] = lab\n",
    "\n",
    "df.sample(5)"
   ]
  },
  {
   "cell_type": "code",
   "execution_count": 4,
   "metadata": {},
   "outputs": [
    {
     "data": {
      "text/plain": [
       "0.22334375703731255"
      ]
     },
     "execution_count": 4,
     "metadata": {},
     "output_type": "execute_result"
    }
   ],
   "source": [
    "def dist(original, distorted):\n",
    "    lab_original = rgb2lab(original/255)\n",
    "    lab_distorted = rgb2lab(distorted/255)\n",
    "    \n",
    "    return np.sum(np.sqrt(\n",
    "        (lab_original[:, 0] - lab_distorted[:, 0]) ** 2 +\n",
    "        (lab_original[:, 1] - lab_distorted[:, 1]) ** 2 +\n",
    "        (lab_original[:, 2] - lab_distorted[:, 2]) ** 2\n",
    "    ))\n",
    "\n",
    "# Function to compute percentage distortion\n",
    "def dist_percent(image, distorted):\n",
    "    \n",
    "    distortion = dist(image, distorted)\n",
    "        \n",
    "    # Maximum possible Euclidean distance in Lab space\n",
    "    L_max = 100.0\n",
    "    a_max = 255.0\n",
    "    b_max = 255.0\n",
    "    max_distance_per_pixel = np.sqrt(L_max**2 + a_max**2 + b_max**2)\n",
    "    \n",
    "    # Total maximum possible distortion\n",
    "    max_possible_distortion = max_distance_per_pixel * len(image)\n",
    "    \n",
    "    # Calculate percentage distortion\n",
    "    percentage_distortion = (distortion / max_possible_distortion)\n",
    "    \n",
    "    return percentage_distortion\n",
    "\n",
    "dist_percent(np.random.randint(0,255, size=pixels.shape), np.random.randint(0,255, size=pixels.shape))"
   ]
  },
  {
   "cell_type": "code",
   "execution_count": 5,
   "metadata": {},
   "outputs": [],
   "source": [
    "def score(new):\n",
    "    return dist_percent(new.reshape(pixels.shape) , pixels)"
   ]
  },
  {
   "cell_type": "code",
   "execution_count": 6,
   "metadata": {},
   "outputs": [],
   "source": [
    "rand_pixels = np.random.randint(0,255, size=pixels.shape)\n",
    "rand_lab = rgb2lab(rand_pixels/255)"
   ]
  },
  {
   "cell_type": "code",
   "execution_count": 15,
   "metadata": {},
   "outputs": [
    {
     "data": {
      "text/plain": [
       "array([  0,   0,   0, ..., 254, 254, 254])"
      ]
     },
     "execution_count": 15,
     "metadata": {},
     "output_type": "execute_result"
    }
   ],
   "source": [
    "pixel_mask = pixels\n",
    "pixel_mask[:,0]"
   ]
  },
  {
   "cell_type": "code",
   "execution_count": 17,
   "metadata": {},
   "outputs": [
    {
     "data": {
      "text/plain": [
       "[<matplotlib.lines.Line2D at 0x2404d555790>]"
      ]
     },
     "execution_count": 17,
     "metadata": {},
     "output_type": "execute_result"
    },
    {
     "data": {
      "image/png": "[encoded data removed]",
      "text/plain": [
       "<Figure size 640x480 with 1 Axes>"
      ]
     },
     "metadata": {},
     "output_type": "display_data"
    }
   ],
   "source": [
    "plt.plot(pixel_mask[:,0], color='red')\n",
    "#plt.plot(pixel_mask[:,1], color='green')\n",
    "#plt.plot(pixel_mask[:,2], color='blue')"
   ]
  },
  {
   "cell_type": "code",
   "execution_count": 9,
   "metadata": {},
   "outputs": [],
   "source": [
    "from scipy.optimize import minimize\n",
    "\n",
    "#result = minimize(score, rand_pixels.ravel(), method='BFGS')\n",
    "#result.x.reshape(pixels.shape)"
   ]
  },
  {
   "cell_type": "code",
   "execution_count": 10,
   "metadata": {},
   "outputs": [],
   "source": [
    "from scipy.optimize import differential_evolution\n",
    "\n",
    "matrix_shape = pixels.shape\n",
    "bounds = [(0, 4) for _ in range(matrix_shape[0] * matrix_shape[1])]\n",
    "\n",
    "#ev_result = differential_evolution(score, bounds, maxiter=10)"
   ]
  }
 ],
 "metadata": {
  "kernelspec": {
   "display_name": "Python 3",
   "language": "python",
   "name": "python3"
  },
  "language_info": {
   "codemirror_mode": {
    "name": "ipython",
    "version": 3
   },
   "file_extension": ".py",
   "mimetype": "text/x-python",
   "name": "python",
   "nbconvert_exporter": "python",
   "pygments_lexer": "ipython3",
   "version": "3.12.0"
  }
 },
 "nbformat": 4,
 "nbformat_minor": 2
}
